{
 "cells": [
  {
   "cell_type": "markdown",
   "metadata": {},
   "source": [
    "$\n",
    "\\begin{equation}\n",
    "\\begin{split}\n",
    "\\cal{M}_1: h_i & \\sim \\text{Normal}(\\mu_i, \\sigma)\\\\\n",
    " \\mu_i &= \\alpha + \\beta_1 x_i\n",
    " \\end{split}\n",
    "\\end{equation}\n",
    "$\n",
    "</br>\n",
    "</br>\n",
    "$\n",
    "\\begin{equation}\n",
    "\\begin{split}\n",
    "\\cal{M}_2: h_i &\\sim \\text{Normal}(\\mu_i, \\sigma) \\\\\n",
    " \\mu_i &= \\alpha + \\beta_1 x_i + \\beta_2 x_i^2\n",
    " \\end{split}\n",
    "\\end{equation}\n",
    "$ \n",
    "</br>\n",
    "</br>\n",
    "$\n",
    "\\begin{equation}\n",
    "\\begin{split}\n",
    "\\cal{M}_3: h_i &\\approx \\text{Normal}(\\mu_i, \\sigma) \\\\\n",
    " \\mu_i &= \\alpha + \\beta_1 x_i + \\beta_2 x_i^2 + \\beta_3 x_i^3\n",
    " \\end{split}\n",
    "\\end{equation}\n",
    "$ \n",
    "</br>\n",
    "</br>\n",
    "$\n",
    "\\begin{equation}\n",
    "\\begin{split}\n",
    "\\cal{M}_4: h_i &\\approx \\text{Normal}(\\mu_i, \\sigma) \\\\\n",
    " \\mu_i &= \\alpha + \\beta_1 x_i + \\beta_2 x_i^2 + \\beta_3 x_i^3 + \\beta_4 x_i^4\n",
    " \\end{split}\n",
    "\\end{equation}\n",
    "$\n",
    "</br>\n",
    "</br>\n",
    "$\n",
    "\\begin{equation}\n",
    "\\begin{split}\n",
    "\\cal{M}_5: h_i &\\approx \\text{Normal}(\\mu_i, \\sigma) \\\\\n",
    " \\mu_i &= \\alpha + \\beta_1 x_i + \\beta_2 x_i^2 + \\beta_3 x_i^3 + \\beta_4 x_i^4 + \\beta_5 x_i^5\n",
    " \\end{split}\n",
    "\\end{equation}\n",
    "$\n",
    "</br>\n",
    "</br>\n",
    "$\n",
    "\\begin{equation}\n",
    "\\begin{split}\n",
    "\\cal{M}_6: h_i &\\approx \\text{Normal}(\\mu_i, \\sigma) \\\\\n",
    " \\mu_i &= \\alpha + \\beta_1 x_i + \\beta_2 x_i^2 + \\beta_3 x_i^3 + \\beta_4 x_i^4 + \\beta_5 x_i^5 + \\beta_6 x_i^6\n",
    " \\end{split}\n",
    "\\end{equation}\n",
    "$\n",
    "\n",
    "\n"
   ]
  },
  {
   "cell_type": "code",
   "execution_count": null,
   "metadata": {},
   "outputs": [],
   "source": []
  }
 ],
 "metadata": {
  "kernelspec": {
   "display_name": "Python 3",
   "language": "python",
   "name": "python3"
  },
  "language_info": {
   "codemirror_mode": {
    "name": "ipython",
    "version": 3
   },
   "file_extension": ".py",
   "mimetype": "text/x-python",
   "name": "python",
   "nbconvert_exporter": "python",
   "pygments_lexer": "ipython3",
   "version": "3.7.4"
  }
 },
 "nbformat": 4,
 "nbformat_minor": 2
}
